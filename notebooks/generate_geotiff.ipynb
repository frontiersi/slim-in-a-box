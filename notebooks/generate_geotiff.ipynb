{
 "cells": [
  {
   "cell_type": "code",
   "execution_count": null,
   "metadata": {},
   "outputs": [],
   "source": [
    "import datacube\n",
    "from datacube.utils.geometry import CRS, point"
   ]
  },
  {
   "cell_type": "code",
   "execution_count": null,
   "metadata": {},
   "outputs": [],
   "source": [
    "latitude = -37.844567\n",
    "longitude = 144.970351\n",
    "\n",
    "# Convert from (long, lat) to (x, y) for finding nearest pixel to site\n",
    "site_point_ll = point(longitude, latitude, crs=CRS('EPSG:4326'))\n",
    "site_xy = site_point_ll.to_crs(CRS('EPSG:3577')).points[0]\n",
    "site_x = site_xy[0]\n",
    "site_y = site_xy[1]\n",
    "\n",
    "print(site_x)\n",
    "print(site_y)"
   ]
  },
  {
   "cell_type": "code",
   "execution_count": null,
   "metadata": {},
   "outputs": [],
   "source": [
    "import rasterio\n",
    "from rasterio.transform import from_origin\n",
    "from rasterio.transform import Affine\n",
    "\n",
    "import numpy as np\n",
    "x = np.linspace(-4.0, 4.0, 240)\n",
    "y = np.linspace(-3.0, 3.0, 180)\n",
    "X, Y = np.meshgrid(x, y)\n",
    "Z1 = np.exp(-2 * np.log(2) * ((X - 0.5) ** 2 + (Y - 0.5) ** 2) / 1 ** 2)\n",
    "Z2 = np.exp(-3 * np.log(2) * ((X + 0.5) ** 2 + (Y + 0.5) ** 2) / 2.5 ** 2)\n",
    "Z = 10.0 * (Z2 - Z1)\n",
    "\n",
    "res = (x[-1] - x[0]) / 240\n",
    "print(res)\n",
    "\n",
    "transform = Affine.translation(x[0] - res / 2, y[0] - res / 2) * Affine.scale(res, res)\n",
    "\n",
    "#transform = from_origin(site_x, site_y, resolution, resolution)\n",
    "\n",
    "new_dataset = rasterio.open('Test_ll.tif',\n",
    "                            'w',\n",
    "                            driver='GTiff',\n",
    "                            height=Z.shape[0],\n",
    "                            width=Z.shape[1],\n",
    "                            count=1, dtype=Z.dtype,\n",
    "                            crs='+proj=latlong',\n",
    "                            transform=transform)\n",
    "\n",
    "new_dataset.write(Z, 1)\n",
    "new_dataset.close()"
   ]
  }
 ],
 "metadata": {
  "kernelspec": {
   "display_name": "Python 3",
   "language": "python",
   "name": "python3"
  },
  "language_info": {
   "codemirror_mode": {
    "name": "ipython",
    "version": 3
   },
   "file_extension": ".py",
   "mimetype": "text/x-python",
   "name": "python",
   "nbconvert_exporter": "python",
   "pygments_lexer": "ipython3",
   "version": "3.6.8"
  }
 },
 "nbformat": 4,
 "nbformat_minor": 2
}
